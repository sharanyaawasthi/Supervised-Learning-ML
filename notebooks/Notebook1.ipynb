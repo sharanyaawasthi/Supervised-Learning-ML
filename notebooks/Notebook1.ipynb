{
 "cells": [
  {
   "cell_type": "code",
   "execution_count": null,
   "id": "c77328fc-6b48-49f3-80da-09003bb20c81",
   "metadata": {},
   "outputs": [],
   "source": []
  },
  {
   "cell_type": "markdown",
   "id": "a5d540bf",
   "metadata": {},
   "source": [
    "hello\n",
    "my name is\n",
    "ssss"
   ]
  },
  {
   "cell_type": "markdown",
   "id": "a31d40f1",
   "metadata": {},
   "source": [
    "dfrffed"
   ]
  },
  {
   "cell_type": "markdown",
   "id": "1fe621f9",
   "metadata": {},
   "source": [
    "scfdvfds"
   ]
  },
  {
   "cell_type": "code",
   "execution_count": 1,
   "id": "e82ad722-a7b6-4541-989e-63ef6dfa2193",
   "metadata": {},
   "outputs": [
    {
     "name": "stdout",
     "output_type": "stream",
     "text": [
      "hello world\n",
      "7\n"
     ]
    }
   ],
   "source": [
    "print('hello world')\n",
    "x = 2\n",
    "y = 5\n",
    "z = x+y\n",
    "print(z)"
   ]
  },
  {
   "cell_type": "markdown",
   "id": "5d0360f6-0b50-4973-aea5-8b3b823cc6f8",
   "metadata": {},
   "source": [
    "So as you saw, this is the code."
   ]
  }
 ],
 "metadata": {
  "kernelspec": {
   "display_name": "Python 3 (ipykernel)",
   "language": "python",
   "name": "python3"
  },
  "language_info": {
   "codemirror_mode": {
    "name": "ipython",
    "version": 3
   },
   "file_extension": ".py",
   "mimetype": "text/x-python",
   "name": "python",
   "nbconvert_exporter": "python",
   "pygments_lexer": "ipython3",
   "version": "3.12.6"
  }
 },
 "nbformat": 4,
 "nbformat_minor": 5
}
