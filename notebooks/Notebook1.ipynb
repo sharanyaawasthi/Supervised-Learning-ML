{
 "cells": [
  {
   "cell_type": "code",
   "execution_count": null,
   "id": "c77328fc-6b48-49f3-80da-09003bb20c81",
   "metadata": {},
   "outputs": [],
   "source": []
  },
  {
   "cell_type": "markdown",
   "id": "a5d540bf",
   "metadata": {},
   "source": [
    "hello\n",
    "my name is\n",
    "ssss"
   ]
  },
  {
   "cell_type": "markdown",
   "id": "a31d40f1",
   "metadata": {},
   "source": [
    "dfrffed"
   ]
  },
  {
   "cell_type": "markdown",
   "id": "1fe621f9",
   "metadata": {},
   "source": [
    "scfdvfds"
   ]
  },
  {
   "cell_type": "markdown",
   "id": "dcad045e",
   "metadata": {},
   "source": []
  }
 ],
 "metadata": {
  "kernelspec": {
   "display_name": "Python 3 (ipykernel)",
   "language": "python",
   "name": "python3"
  },
  "language_info": {
   "codemirror_mode": {
    "name": "ipython",
    "version": 3
   },
   "file_extension": ".py",
   "mimetype": "text/x-python",
   "name": "python",
   "nbconvert_exporter": "python",
   "pygments_lexer": "ipython3",
   "version": "3.12.6"
  }
 },
 "nbformat": 4,
 "nbformat_minor": 5
}
